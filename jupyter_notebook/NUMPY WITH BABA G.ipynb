{
 "cells": [
  {
   "cell_type": "markdown",
   "id": "283f4915",
   "metadata": {},
   "source": [
    "# PIP install NUMPY"
   ]
  },
  {
   "cell_type": "markdown",
   "id": "24056a2b",
   "metadata": {},
   "source": [
    "#### First one must install and import libary "
   ]
  },
  {
   "cell_type": "code",
   "execution_count": 1,
   "id": "9af41331",
   "metadata": {},
   "outputs": [],
   "source": [
    "import numpy as np\n"
   ]
  },
  {
   "cell_type": "code",
   "execution_count": 4,
   "id": "b3e8aaad",
   "metadata": {},
   "outputs": [
    {
     "data": {
      "text/plain": [
       "array(['Pakora', 'Samosa', 'Raita'], dtype='<U6')"
      ]
     },
     "execution_count": 4,
     "metadata": {},
     "output_type": "execute_result"
    }
   ],
   "source": [
    "food =np.array([\"Pakora\" ,\"Samosa\" , \"Raita\" ])\n",
    "food"
   ]
  },
  {
   "cell_type": "code",
   "execution_count": 5,
   "id": "5ae79ca9",
   "metadata": {},
   "outputs": [
    {
     "data": {
      "text/plain": [
       "array([5, 5, 5])"
      ]
     },
     "execution_count": 5,
     "metadata": {},
     "output_type": "execute_result"
    }
   ],
   "source": [
    "price = np.array([5,5,5])\n",
    "price"
   ]
  },
  {
   "cell_type": "code",
   "execution_count": 7,
   "id": "49a61c6a",
   "metadata": {},
   "outputs": [
    {
     "data": {
      "text/plain": [
       "numpy.ndarray"
      ]
     },
     "execution_count": 7,
     "metadata": {},
     "output_type": "execute_result"
    }
   ],
   "source": [
    "type(price) # here this type shows the dimension of arrary, in mathematics term array is actually in matrix, in image processing we consider the pixel as numpy array and perfrom kernal or function over it"
   ]
  },
  {
   "cell_type": "code",
   "execution_count": 8,
   "id": "b26731f7",
   "metadata": {},
   "outputs": [
    {
     "data": {
      "text/plain": [
       "numpy.ndarray"
      ]
     },
     "execution_count": 8,
     "metadata": {},
     "output_type": "execute_result"
    }
   ],
   "source": [
    "type(food)"
   ]
  },
  {
   "cell_type": "code",
   "execution_count": 10,
   "id": "299c5485",
   "metadata": {},
   "outputs": [
    {
     "data": {
      "text/plain": [
       "3"
      ]
     },
     "execution_count": 10,
     "metadata": {},
     "output_type": "execute_result"
    }
   ],
   "source": [
    "# to check length of array we use following\n",
    "\n",
    "len(food)"
   ]
  },
  {
   "cell_type": "code",
   "execution_count": 11,
   "id": "21172d64",
   "metadata": {},
   "outputs": [
    {
     "data": {
      "text/plain": [
       "5"
      ]
     },
     "execution_count": 11,
     "metadata": {},
     "output_type": "execute_result"
    }
   ],
   "source": [
    "price[2] # here we must remember index start from 0,1,2"
   ]
  },
  {
   "cell_type": "code",
   "execution_count": 14,
   "id": "bfcd1911",
   "metadata": {},
   "outputs": [
    {
     "data": {
      "text/plain": [
       "array([5, 5, 5])"
      ]
     },
     "execution_count": 14,
     "metadata": {},
     "output_type": "execute_result"
    }
   ],
   "source": [
    "price[0:]"
   ]
  },
  {
   "cell_type": "code",
   "execution_count": 15,
   "id": "f692cd04",
   "metadata": {},
   "outputs": [
    {
     "data": {
      "text/plain": [
       "'Samosa'"
      ]
     },
     "execution_count": 15,
     "metadata": {},
     "output_type": "execute_result"
    }
   ],
   "source": [
    "food[1] # to read samosa of array food, we must use index"
   ]
  },
  {
   "cell_type": "code",
   "execution_count": 16,
   "id": "70c5f643",
   "metadata": {},
   "outputs": [
    {
     "data": {
      "text/plain": [
       "5.0"
      ]
     },
     "execution_count": 16,
     "metadata": {},
     "output_type": "execute_result"
    }
   ],
   "source": [
    "price.mean() # we can do statistical operation of array using this"
   ]
  },
  {
   "cell_type": "markdown",
   "id": "ef8a58cc",
   "metadata": {},
   "source": [
    "## MAKING of ARRAY METHODS"
   ]
  },
  {
   "cell_type": "code",
   "execution_count": 17,
   "id": "cdd79078",
   "metadata": {},
   "outputs": [
    {
     "data": {
      "text/plain": [
       "array([0., 0., 0., 0., 0.])"
      ]
     },
     "execution_count": 17,
     "metadata": {},
     "output_type": "execute_result"
    }
   ],
   "source": [
    "# Zeros this is first method that will prduce 5 zeros one dimensional arrary\n",
    "np.zeros(5)"
   ]
  },
  {
   "cell_type": "code",
   "execution_count": 18,
   "id": "32a75095",
   "metadata": {},
   "outputs": [
    {
     "data": {
      "text/plain": [
       "array([1., 1., 1., 1., 1.])"
      ]
     },
     "execution_count": 18,
     "metadata": {},
     "output_type": "execute_result"
    }
   ],
   "source": [
    "# for ones\n",
    "np.ones(5)"
   ]
  },
  {
   "cell_type": "code",
   "execution_count": 19,
   "id": "0848c171",
   "metadata": {},
   "outputs": [
    {
     "data": {
      "text/plain": [
       "array([1., 1., 1., 1., 1.])"
      ]
     },
     "execution_count": 19,
     "metadata": {},
     "output_type": "execute_result"
    }
   ],
   "source": [
    "#empty this empty will not produce and empty array but can give any array or user defined and must be proceed with caution\n",
    "np.empty(5)"
   ]
  },
  {
   "cell_type": "code",
   "execution_count": 22,
   "id": "9f33e9a9",
   "metadata": {},
   "outputs": [
    {
     "data": {
      "text/plain": [
       "array([0, 1, 2, 3, 4, 5, 6, 7, 8, 9])"
      ]
     },
     "execution_count": 22,
     "metadata": {},
     "output_type": "execute_result"
    }
   ],
   "source": [
    "# RANGE\n",
    "np.arange(10) # this gave range from zero to 10"
   ]
  },
  {
   "cell_type": "code",
   "execution_count": 24,
   "id": "c4e308da",
   "metadata": {},
   "outputs": [
    {
     "data": {
      "text/plain": [
       "array([ 2,  3,  4,  5,  6,  7,  8,  9, 10, 11, 12, 13, 14, 15, 16, 17, 18,\n",
       "       19])"
      ]
     },
     "execution_count": 24,
     "metadata": {},
     "output_type": "execute_result"
    }
   ],
   "source": [
    "# Specifying the range\n",
    "np.arange(2,20)"
   ]
  },
  {
   "cell_type": "code",
   "execution_count": 26,
   "id": "0c9b026e",
   "metadata": {},
   "outputs": [
    {
     "data": {
      "text/plain": [
       "array([ 2,  4,  6,  8, 10, 12, 14, 16, 18])"
      ]
     },
     "execution_count": 26,
     "metadata": {},
     "output_type": "execute_result"
    }
   ],
   "source": [
    "# making range with specific gap or interval , \n",
    "np.arange(2,20,2) # this 2 in last is interval "
   ]
  },
  {
   "cell_type": "code",
   "execution_count": 28,
   "id": "58b81c82",
   "metadata": {},
   "outputs": [
    {
     "data": {
      "text/plain": [
       "array([ 0,  5, 10, 15, 20, 25, 30, 35, 40, 45])"
      ]
     },
     "execution_count": 28,
     "metadata": {},
     "output_type": "execute_result"
    }
   ],
   "source": [
    "# TABLE it will result in table of 5\n",
    "np.arange(0,50,5)"
   ]
  },
  {
   "cell_type": "code",
   "execution_count": 31,
   "id": "bc24f748",
   "metadata": {},
   "outputs": [
    {
     "data": {
      "text/plain": [
       "array([  1.  ,  25.75,  50.5 ,  75.25, 100.  ])"
      ]
     },
     "execution_count": 31,
     "metadata": {},
     "output_type": "execute_result"
    }
   ],
   "source": [
    "# LINE SPACE it will distribute the number into equal parts of 5\n",
    "np.linspace(1, 100, num=5)"
   ]
  },
  {
   "cell_type": "code",
   "execution_count": 34,
   "id": "6ea0df8d",
   "metadata": {},
   "outputs": [
    {
     "data": {
      "text/plain": [
       "array([1, 1, 1, 1, 1, 1, 1, 1, 1, 1, 1, 1, 1, 1, 1, 1, 1, 1, 1, 1, 1, 1,\n",
       "       1, 1, 1, 1, 1, 1, 1, 1, 1, 1, 1, 1, 1, 1, 1, 1, 1, 1, 1, 1, 1, 1,\n",
       "       1, 1, 1, 1, 1, 1], dtype=int64)"
      ]
     },
     "execution_count": 34,
     "metadata": {},
     "output_type": "execute_result"
    }
   ],
   "source": [
    "# Specify data type , it gave 5 integer of ones, it can also give float if we use float\n",
    "np.ones(50 , dtype=np.int64)"
   ]
  },
  {
   "cell_type": "code",
   "execution_count": 35,
   "id": "e1ad3315",
   "metadata": {},
   "outputs": [
    {
     "data": {
      "text/plain": [
       "array([1., 1., 1., 1., 1., 1., 1., 1., 1., 1., 1., 1., 1., 1., 1., 1., 1.,\n",
       "       1., 1., 1., 1., 1., 1., 1., 1., 1., 1., 1., 1., 1., 1., 1., 1., 1.,\n",
       "       1., 1., 1., 1., 1., 1., 1., 1., 1., 1., 1., 1., 1., 1., 1., 1.])"
      ]
     },
     "execution_count": 35,
     "metadata": {},
     "output_type": "execute_result"
    }
   ],
   "source": [
    "np.ones(50 , dtype=np.float64) # its now giving point values"
   ]
  },
  {
   "cell_type": "markdown",
   "id": "76acde00",
   "metadata": {},
   "source": [
    "## Array functions "
   ]
  },
  {
   "cell_type": "code",
   "execution_count": 39,
   "id": "2353de59",
   "metadata": {},
   "outputs": [
    {
     "name": "stdout",
     "output_type": "stream",
     "text": [
      "[ 10.   12.   15.    2.    4.    6.  100.  320.    0.5  10.3]\n"
     ]
    }
   ],
   "source": [
    "a = np.array([10,12,15,2,4,6,100,320,0.5,10.3]) # we can it convert all int to float\n",
    "print(a)"
   ]
  },
  {
   "cell_type": "code",
   "execution_count": 40,
   "id": "6e634bb5",
   "metadata": {},
   "outputs": [
    {
     "name": "stdout",
     "output_type": "stream",
     "text": [
      "[  0.5   2.    4.    6.   10.   10.3  12.   15.  100.  320. ]\n"
     ]
    }
   ],
   "source": [
    "# sorting of array , it will sort in ascending order\n",
    "a.sort()\n",
    "print(a)"
   ]
  },
  {
   "cell_type": "code",
   "execution_count": 43,
   "id": "385651d5",
   "metadata": {},
   "outputs": [
    {
     "name": "stdout",
     "output_type": "stream",
     "text": [
      "[10.2  3.4 53.6 91.6 45.5]\n"
     ]
    }
   ],
   "source": [
    "b = np.array([10.2,3.4,53.6,91.6,45.5])\n",
    "print(b)"
   ]
  },
  {
   "cell_type": "code",
   "execution_count": 45,
   "id": "ef119e26",
   "metadata": {},
   "outputs": [
    {
     "name": "stdout",
     "output_type": "stream",
     "text": [
      "[  0.5   2.    4.    6.   10.   10.3  12.   15.  100.  320.   10.2   3.4\n",
      "  53.6  91.6  45.5]\n"
     ]
    }
   ],
   "source": [
    "# we can combine or concatenate two arrarys \n",
    "c=np.concatenate((a,b))\n",
    "print(c)"
   ]
  },
  {
   "cell_type": "code",
   "execution_count": 46,
   "id": "d48996da",
   "metadata": {},
   "outputs": [
    {
     "name": "stdout",
     "output_type": "stream",
     "text": [
      "[  0.5   2.    3.4   4.    6.   10.   10.2  10.3  12.   15.   45.5  53.6\n",
      "  91.6 100.  320. ]\n"
     ]
    }
   ],
   "source": [
    "c.sort()\n",
    "print(c)"
   ]
  },
  {
   "cell_type": "markdown",
   "id": "a413a963",
   "metadata": {},
   "source": [
    "# 2- D ARRARY\n"
   ]
  },
  {
   "cell_type": "code",
   "execution_count": 49,
   "id": "c1240d82",
   "metadata": {},
   "outputs": [
    {
     "name": "stdout",
     "output_type": "stream",
     "text": [
      "[[1 2 3 4 5]\n",
      " [5 4 3 2 1]]\n"
     ]
    }
   ],
   "source": [
    "d = np.array([[1,2,3,4,5], [5,4,3,2,1]]) # arrary add easily in same dimesnion\n",
    "print(d)"
   ]
  },
  {
   "cell_type": "code",
   "execution_count": 53,
   "id": "fba5f60d",
   "metadata": {},
   "outputs": [
    {
     "name": "stdout",
     "output_type": "stream",
     "text": [
      "[[6 7]\n",
      " [8 9]]\n"
     ]
    }
   ],
   "source": [
    "e = np.array([[6,7],[8,9]])\n",
    "print(e)"
   ]
  },
  {
   "cell_type": "code",
   "execution_count": 59,
   "id": "f47537bc",
   "metadata": {},
   "outputs": [
    {
     "name": "stdout",
     "output_type": "stream",
     "text": [
      "[[1 2 3 4 5 6 7]\n",
      " [5 4 3 2 1 8 9]]\n"
     ]
    }
   ],
   "source": [
    "f = np.concatenate((d,e), axis=1) # we have to put axis as 1\n",
    "print(f)"
   ]
  },
  {
   "cell_type": "code",
   "execution_count": 63,
   "id": "730be03f",
   "metadata": {},
   "outputs": [
    {
     "name": "stdout",
     "output_type": "stream",
     "text": [
      "[[ 1  5]\n",
      " [ 6 10]]\n",
      "[[11 15]\n",
      " [16 20]]\n"
     ]
    }
   ],
   "source": [
    "g = np.array([[1,5], [6,10]])\n",
    "h= np.array([[11,15] , [16,20]])\n",
    "print(g)\n",
    "print(h)"
   ]
  },
  {
   "cell_type": "code",
   "execution_count": 65,
   "id": "cee6aac5",
   "metadata": {},
   "outputs": [
    {
     "name": "stdout",
     "output_type": "stream",
     "text": [
      "[[ 1  5]\n",
      " [ 6 10]\n",
      " [11 15]\n",
      " [16 20]]\n"
     ]
    }
   ],
   "source": [
    "# now to concatenate in zero axis we the dimension must be same\n",
    "i = np.concatenate((g,h), axis=0)\n",
    "print(i) # in result we can see cleary it stack like follows frop top to bottom axis=0\n",
    "# from left to right axis = 1"
   ]
  },
  {
   "cell_type": "markdown",
   "id": "1d5044d3",
   "metadata": {},
   "source": [
    "## 2 D Arrary "
   ]
  },
  {
   "cell_type": "code",
   "execution_count": 66,
   "id": "e209be82",
   "metadata": {},
   "outputs": [
    {
     "data": {
      "text/plain": [
       "2"
      ]
     },
     "execution_count": 66,
     "metadata": {},
     "output_type": "execute_result"
    }
   ],
   "source": [
    "i.ndim # to check the dimension"
   ]
  },
  {
   "cell_type": "code",
   "execution_count": 72,
   "id": "47963557",
   "metadata": {},
   "outputs": [
    {
     "name": "stdout",
     "output_type": "stream",
     "text": [
      "[[[0 1 2 3]\n",
      "  [4 5 6 7]]\n",
      "\n",
      " [[0 1 2 3]\n",
      "  [4 5 6 7]]\n",
      "\n",
      " [[0 1 2 3]\n",
      "  [4 5 6 7]]]\n"
     ]
    }
   ],
   "source": [
    "j = np.array([[[0,1,2,3], \n",
    "               [4,5,6,7]]\n",
    "            ,\n",
    "                [[0,1,2,3],\n",
    "                 [4,5,6,7]]\n",
    "             , \n",
    "              [[0,1,2,3],\n",
    "              [4,5,6,7]]])\n",
    "print(j)"
   ]
  },
  {
   "cell_type": "code",
   "execution_count": 73,
   "id": "486bba71",
   "metadata": {},
   "outputs": [
    {
     "data": {
      "text/plain": [
       "3"
      ]
     },
     "execution_count": 73,
     "metadata": {},
     "output_type": "execute_result"
    }
   ],
   "source": [
    "j.ndim # to find the dimension , to make 3 dim arrary we make three 2 dim arrays"
   ]
  },
  {
   "cell_type": "code",
   "execution_count": 75,
   "id": "d509ff00",
   "metadata": {},
   "outputs": [
    {
     "name": "stdout",
     "output_type": "stream",
     "text": [
      "[[ 5  6  7]\n",
      " [ 8  9 10]\n",
      " [10 11 12]]\n"
     ]
    }
   ],
   "source": [
    "k=np.array([\n",
    "            [5,6,7]\n",
    "            ,\n",
    "           [8,9,10]\n",
    "           ,\n",
    "           [10,11,12]\n",
    "           ])\n",
    "print(k)"
   ]
  },
  {
   "cell_type": "code",
   "execution_count": 76,
   "id": "a7a76791",
   "metadata": {},
   "outputs": [
    {
     "data": {
      "text/plain": [
       "2"
      ]
     },
     "execution_count": 76,
     "metadata": {},
     "output_type": "execute_result"
    }
   ],
   "source": [
    "k.ndim"
   ]
  },
  {
   "cell_type": "code",
   "execution_count": 81,
   "id": "626a2dfc",
   "metadata": {},
   "outputs": [
    {
     "name": "stdout",
     "output_type": "stream",
     "text": [
      "2\n",
      "(3, 3)\n"
     ]
    }
   ],
   "source": [
    "print(k.ndim)\n",
    "print(k.shape)"
   ]
  },
  {
   "cell_type": "code",
   "execution_count": 82,
   "id": "189402b8",
   "metadata": {},
   "outputs": [
    {
     "name": "stdout",
     "output_type": "stream",
     "text": [
      "2\n",
      "(4, 2)\n"
     ]
    }
   ],
   "source": [
    "print(i.ndim)\n",
    "print(i.shape)"
   ]
  },
  {
   "cell_type": "code",
   "execution_count": 83,
   "id": "7a377e7d",
   "metadata": {},
   "outputs": [
    {
     "name": "stdout",
     "output_type": "stream",
     "text": [
      "3\n",
      "(3, 2, 4)\n"
     ]
    }
   ],
   "source": [
    "print(j.ndim)\n",
    "print(j.shape)"
   ]
  },
  {
   "cell_type": "markdown",
   "id": "00051344",
   "metadata": {},
   "source": [
    "# just one arrary is one dimension arrary\n",
    "# array within arrary is two dimension arrary\n",
    "# an arrary with an array which is in another arrary is 3 dimension arrary\n",
    "# 3d is actually triple stepdown index according to memory of index"
   ]
  },
  {
   "cell_type": "code",
   "execution_count": 84,
   "id": "260b7dc8",
   "metadata": {},
   "outputs": [],
   "source": [
    "# to find size we can find size\n"
   ]
  },
  {
   "cell_type": "code",
   "execution_count": 89,
   "id": "7575011d",
   "metadata": {},
   "outputs": [
    {
     "name": "stdout",
     "output_type": "stream",
     "text": [
      "[0 1 2 3 4 5 6 7 8]\n"
     ]
    }
   ],
   "source": [
    "k = np.arange(9) # this is 3*3\n",
    "print(k)"
   ]
  },
  {
   "cell_type": "code",
   "execution_count": 91,
   "id": "be203056",
   "metadata": {},
   "outputs": [
    {
     "name": "stdout",
     "output_type": "stream",
     "text": [
      "[[0 1 2]\n",
      " [3 4 5]\n",
      " [6 7 8]]\n"
     ]
    }
   ],
   "source": [
    "# RESHAPE\n",
    "l =k.reshape(3,3) # 3*3 = 9\n",
    "print(l)"
   ]
  },
  {
   "cell_type": "code",
   "execution_count": 94,
   "id": "41f1074d",
   "metadata": {},
   "outputs": [
    {
     "data": {
      "text/plain": [
       "array([[0, 1, 2, 3, 4, 5, 6, 7, 8]])"
      ]
     },
     "execution_count": 94,
     "metadata": {},
     "output_type": "execute_result"
    }
   ],
   "source": [
    "# RESHAPE \n",
    "np.reshape(k, newshape=(1,9), order='C')"
   ]
  },
  {
   "cell_type": "markdown",
   "id": "e35b1adb",
   "metadata": {},
   "source": [
    "## Conversion of Arrays "
   ]
  },
  {
   "cell_type": "code",
   "execution_count": 96,
   "id": "294e198f",
   "metadata": {},
   "outputs": [
    {
     "data": {
      "text/plain": [
       "(9,)"
      ]
     },
     "execution_count": 96,
     "metadata": {},
     "output_type": "execute_result"
    }
   ],
   "source": [
    "# Convert 1-D array into 2D\n",
    "m = np.array([1,2,3,4,5,6,7,8,9])\n",
    "m.shape\n"
   ]
  },
  {
   "cell_type": "code",
   "execution_count": 101,
   "id": "9ee40391",
   "metadata": {},
   "outputs": [
    {
     "name": "stdout",
     "output_type": "stream",
     "text": [
      "[[1 2 3 4 5 6 7 8 9]]\n"
     ]
    }
   ],
   "source": [
    "# Row wise 2 d conversion\n",
    "n=m[np.newaxis, :]\n",
    "print(n)"
   ]
  },
  {
   "cell_type": "code",
   "execution_count": 98,
   "id": "879929cb",
   "metadata": {},
   "outputs": [
    {
     "data": {
      "text/plain": [
       "(1, 9)"
      ]
     },
     "execution_count": 98,
     "metadata": {},
     "output_type": "execute_result"
    }
   ],
   "source": [
    "n.shape"
   ]
  },
  {
   "cell_type": "code",
   "execution_count": 99,
   "id": "d102dea2",
   "metadata": {},
   "outputs": [
    {
     "data": {
      "text/plain": [
       "2"
      ]
     },
     "execution_count": 99,
     "metadata": {},
     "output_type": "execute_result"
    }
   ],
   "source": [
    "n.ndim"
   ]
  },
  {
   "cell_type": "code",
   "execution_count": 102,
   "id": "e10e660e",
   "metadata": {},
   "outputs": [
    {
     "name": "stdout",
     "output_type": "stream",
     "text": [
      "[[1]\n",
      " [2]\n",
      " [3]\n",
      " [4]\n",
      " [5]\n",
      " [6]\n",
      " [7]\n",
      " [8]\n",
      " [9]]\n"
     ]
    }
   ],
   "source": [
    "# Colum wise 2 , d\n",
    "\n",
    "o =m[ :, np.newaxis]\n",
    "print(o)"
   ]
  },
  {
   "cell_type": "code",
   "execution_count": 103,
   "id": "61cd3604",
   "metadata": {},
   "outputs": [],
   "source": [
    "# a[1:9] this will print array in index wise\n",
    "# we can multiply, add, minu a number in the array\n"
   ]
  },
  {
   "cell_type": "code",
   "execution_count": 105,
   "id": "dccce6d3",
   "metadata": {},
   "outputs": [
    {
     "data": {
      "text/plain": [
       "5.0"
      ]
     },
     "execution_count": 105,
     "metadata": {},
     "output_type": "execute_result"
    }
   ],
   "source": [
    "o.mean()"
   ]
  },
  {
   "cell_type": "code",
   "execution_count": 106,
   "id": "1740454f",
   "metadata": {},
   "outputs": [
    {
     "data": {
      "text/plain": [
       "45"
      ]
     },
     "execution_count": 106,
     "metadata": {},
     "output_type": "execute_result"
    }
   ],
   "source": [
    "o.sum()"
   ]
  },
  {
   "cell_type": "markdown",
   "id": "5868adbc",
   "metadata": {},
   "source": [
    "# Generating 3d Array"
   ]
  },
  {
   "cell_type": "code",
   "execution_count": 107,
   "id": "2fc2899b",
   "metadata": {},
   "outputs": [
    {
     "name": "stdout",
     "output_type": "stream",
     "text": [
      "[[[ 0  1  2  3]\n",
      "  [ 4  5  6  7]\n",
      "  [ 8  9 10 11]]\n",
      "\n",
      " [[12 13 14 15]\n",
      "  [16 17 18 19]\n",
      "  [20 21 22 23]]]\n"
     ]
    }
   ],
   "source": [
    "p=np.arange(24).reshape(2,3,4)\n",
    "print(p)"
   ]
  },
  {
   "cell_type": "code",
   "execution_count": null,
   "id": "0d703043",
   "metadata": {},
   "outputs": [],
   "source": []
  }
 ],
 "metadata": {
  "kernelspec": {
   "display_name": "Python 3",
   "language": "python",
   "name": "python3"
  },
  "language_info": {
   "codemirror_mode": {
    "name": "ipython",
    "version": 3
   },
   "file_extension": ".py",
   "mimetype": "text/x-python",
   "name": "python",
   "nbconvert_exporter": "python",
   "pygments_lexer": "ipython3",
   "version": "3.8.8"
  }
 },
 "nbformat": 4,
 "nbformat_minor": 5
}
