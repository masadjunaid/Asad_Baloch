{
 "cells": [
  {
   "cell_type": "markdown",
   "metadata": {},
   "source": [
    "# Complete Data Science Notebook with Baba G Ammaar   \n",
    "##### I am Asad  Baloch i am making complete notebook for my understanding and revision "
   ]
  },
  {
   "cell_type": "markdown",
   "metadata": {},
   "source": [
    "### OPERATORS \n",
    "#### Addition , multiplication , divsion , substraction & modulus operator , Power function"
   ]
  },
  {
   "cell_type": "code",
   "execution_count": 25,
   "metadata": {},
   "outputs": [
    {
     "name": "stdout",
     "output_type": "stream",
     "text": [
      "5\n",
      "10\n",
      "-1\n",
      "1.0\n",
      "1\n",
      "3\n"
     ]
    }
   ],
   "source": [
    "### Operators are things used in simple math functions \n",
    "### for example addition division etc\n",
    "print(2+3)\n",
    "print(2*5)\n",
    "print(2-3)\n",
    "print(3/3)\n",
    "\n",
    "# here another important Operator is moduls operator that is %\n",
    "\n",
    "print(1%2) # this gives the remainder to us \n",
    "print(6//2) # this will give integer and signle slash will give division answer in floating"
   ]
  },
  {
   "cell_type": "code",
   "execution_count": 26,
   "metadata": {},
   "outputs": [
    {
     "name": "stdout",
     "output_type": "stream",
     "text": [
      "9\n"
     ]
    }
   ],
   "source": [
    "# Power function using double star\n",
    "print(3**2)"
   ]
  },
  {
   "cell_type": "code",
   "execution_count": 27,
   "metadata": {},
   "outputs": [
    {
     "name": "stdout",
     "output_type": "stream",
     "text": [
      "6.5\n"
     ]
    }
   ],
   "source": [
    "## PEMDAS , it will follow the rule of Parenthesis, exponenets, multiply, divide,addition & substration\n",
    "print(3**2/2*3/3+6-4)\n",
    "\n",
    "## multiply or divide k darmyan or addition substraction k darmyan sequence left to right hoga enka"
   ]
  },
  {
   "cell_type": "markdown",
   "metadata": {},
   "source": [
    "### ---------------------STRINGS------------------------------"
   ]
  },
  {
   "cell_type": "markdown",
   "metadata": {},
   "source": [
    "##### Strings are stuff in bracket within the single, double, triple quotation marks"
   ]
  },
  {
   "cell_type": "code",
   "execution_count": 28,
   "metadata": {},
   "outputs": [
    {
     "name": "stdout",
     "output_type": "stream",
     "text": [
      "Test for single quotes\n",
      "Test for double quotes\n",
      "Test for triple quotes\n"
     ]
    }
   ],
   "source": [
    "print('Test for single quotes')\n",
    "print(\"Test for double quotes\")\n",
    "print(\"Test for triple quotes\")"
   ]
  },
  {
   "cell_type": "code",
   "execution_count": 29,
   "metadata": {},
   "outputs": [
    {
     "name": "stdout",
     "output_type": "stream",
     "text": [
      "What's up\n"
     ]
    }
   ],
   "source": [
    "print(\"What's up\") # ab yaha par agar single quote use kia to string ban nai paiga what's up ke wja se \n",
    "# space string se bahar nikalny ka faida nai, agar string k andar space dia to result me show hoga\n"
   ]
  },
  {
   "cell_type": "markdown",
   "metadata": {},
   "source": [
    "### ----------------- Commenting ------------------------"
   ]
  },
  {
   "cell_type": "code",
   "execution_count": 30,
   "metadata": {},
   "outputs": [
    {
     "name": "stdout",
     "output_type": "stream",
     "text": [
      "How are you\n",
      "we are learning python with Aammar\n",
      "8\n"
     ]
    }
   ],
   "source": [
    "print(\"How are you\")\n",
    "print(\"we are learning python with Aammar\")\n",
    "print(2+6)\n",
    "# jab hamne koi line print na karni ho to osko hashtag kardain to run nai karege\n"
   ]
  },
  {
   "cell_type": "markdown",
   "metadata": {},
   "source": [
    "### ------------------ Variables ---------------------"
   ]
  },
  {
   "cell_type": "code",
   "execution_count": 31,
   "metadata": {},
   "outputs": [
    {
     "name": "stdout",
     "output_type": "stream",
     "text": [
      "5\n",
      "we are learning Python with Aammar\n"
     ]
    }
   ],
   "source": [
    "# Variables :  objects containing specific values \n",
    "\n",
    "x = 5 # numeric variable \n",
    "print(x)\n",
    "\n",
    "y=\"we are learning Python with Aammar\" # this is string variable \n",
    "print(y)"
   ]
  },
  {
   "cell_type": "code",
   "execution_count": 32,
   "metadata": {},
   "outputs": [
    {
     "name": "stdout",
     "output_type": "stream",
     "text": [
      "<class 'int'>\n",
      "<class 'str'>\n"
     ]
    }
   ],
   "source": [
    "# Types or Class of variables  to check type we use command type\n",
    "x = 5\n",
    "print(type(x)) # class yaha eske integer hy variable ke \n",
    "print(type(y)) # yaha y ke class string hy\n"
   ]
  },
  {
   "cell_type": "code",
   "execution_count": 33,
   "metadata": {},
   "outputs": [],
   "source": [
    "# Rules to assign a variable \n",
    "# 1- The variable should contain letters, numbers or underscores \n",
    "#2- Donot start or name the variable with numbers \n",
    "#3- Spaces are not allowed in variables name\n",
    "#4- Do not use keywords  used in functions (break, mean , median, test etc etc)\n",
    "#5- variable name must be short and descriptive \n",
    "#6- Case sensitivity , lower & upper case letters must be taken care for"
   ]
  },
  {
   "cell_type": "code",
   "execution_count": 34,
   "metadata": {},
   "outputs": [
    {
     "name": "stdout",
     "output_type": "stream",
     "text": [
      "Mangoes , Oranges\n",
      "<class 'str'>\n"
     ]
    }
   ],
   "source": [
    "fruit_basket =\"Mangoes , Oranges\"\n",
    "print(fruit_basket) # fruit basket k andar mangoes a gaya\n",
    "# we can use del , to delete the variable \n",
    "print(type(fruit_basket))"
   ]
  },
  {
   "cell_type": "markdown",
   "metadata": {},
   "source": [
    "### ---------------- Input Variables -----------------"
   ]
  },
  {
   "cell_type": "code",
   "execution_count": 35,
   "metadata": {},
   "outputs": [
    {
     "name": "stdout",
     "output_type": "stream",
     "text": [
      "Mango\n"
     ]
    }
   ],
   "source": [
    "#fruit_basket = \"Mangoes\"\n",
    "#print(fruit_basket)\n",
    "\n",
    "# Inpurt function , user se sawal pochna ya entry karwana\n",
    "fruit_basket=input(\"What is your favourite fruit \") # yaha pe variable input lega user se\n",
    "print(fruit_basket)"
   ]
  },
  {
   "cell_type": "code",
   "execution_count": 36,
   "metadata": {},
   "outputs": [
    {
     "name": "stdout",
     "output_type": "stream",
     "text": [
      "Hello! Asad\n"
     ]
    }
   ],
   "source": [
    "# 2nd stage input function\n",
    "name = input(\"What is your name? \")\n",
    "greetings=\"Hello!\"\n",
    "\n",
    "print(greetings, name)"
   ]
  },
  {
   "cell_type": "code",
   "execution_count": 37,
   "metadata": {},
   "outputs": [
    {
     "name": "stdout",
     "output_type": "stream",
     "text": [
      "Hello! Asad\n"
     ]
    }
   ],
   "source": [
    "# another way of stage two inpurt function yaha par print me hello ko string me lik dia or \n",
    "# opar alag alag variable bana k print karwaya\n",
    "name = input(\"What is your name? \")\n",
    "print(\"Hello!\", name)"
   ]
  },
  {
   "cell_type": "code",
   "execution_count": 38,
   "metadata": {},
   "outputs": [
    {
     "name": "stdout",
     "output_type": "stream",
     "text": [
      " Hello !  Baloch 29  , You are still young\n"
     ]
    }
   ],
   "source": [
    "# 3rd stage input function \n",
    "\n",
    "name = input (\"What is your name? \")\n",
    "age = input(\"How old are you ? \")\n",
    "greetings = \" Hello ! \"\n",
    "\n",
    "print( greetings, name, age,  \" , You are still young\" )"
   ]
  },
  {
   "cell_type": "markdown",
   "metadata": {},
   "source": [
    "### ----------------- Conditional Logics ----------------------------"
   ]
  },
  {
   "cell_type": "code",
   "execution_count": 39,
   "metadata": {},
   "outputs": [
    {
     "name": "stdout",
     "output_type": "stream",
     "text": [
      "False\n",
      "True\n",
      "True\n",
      "True\n",
      "True\n"
     ]
    }
   ],
   "source": [
    "# Logical operators are either true or fales or yes or no or 0,1\n",
    "# Equal to                  ==\n",
    "# Less than                 <\n",
    "# greater than              >\n",
    "# less than and equal to    <=\n",
    "# greater than and equal to >=\n",
    "# not equal to              !=\n",
    "# is 4 equal to 4 ?\n",
    "print(4!=4)\n",
    "print(4==4)\n",
    "print(4>3)\n",
    "print(3<6)\n",
    "print(3<=5)"
   ]
  },
  {
   "cell_type": "code",
   "execution_count": 40,
   "metadata": {},
   "outputs": [
    {
     "name": "stdout",
     "output_type": "stream",
     "text": [
      "False\n"
     ]
    }
   ],
   "source": [
    "# Application of logical operators \n",
    "hamza_age=4\n",
    "age_at_school=5\n",
    "print(hamza_age==age_at_school)"
   ]
  },
  {
   "cell_type": "code",
   "execution_count": 41,
   "metadata": {},
   "outputs": [
    {
     "name": "stdout",
     "output_type": "stream",
     "text": [
      "<class 'int'>\n",
      "False\n"
     ]
    }
   ],
   "source": [
    "# Input operator and logicals \n",
    "age_at_school=5\n",
    "hamza_age=input(\"How old is hamza\") # input function\n",
    "hamza_age=int(hamza_age)\n",
    "print(type(hamza_age))\n",
    "print(hamza_age==age_at_school)\n",
    "# yaha pe input jo hoga wo as a string consider hoga to input ko hamne float me convert karna hoga\n",
    "# CONVERT INPUT "
   ]
  },
  {
   "cell_type": "markdown",
   "metadata": {},
   "source": [
    "### -------------- Type Conversion ------------------------"
   ]
  },
  {
   "cell_type": "code",
   "execution_count": 42,
   "metadata": {},
   "outputs": [
    {
     "name": "stdout",
     "output_type": "stream",
     "text": [
      "<class 'float'>\n",
      "<class 'float'>\n",
      "Your age is : 29\n",
      "your age is : 29 <class 'int'>\n"
     ]
    },
    {
     "data": {
      "text/plain": [
       "(None,)"
      ]
     },
     "execution_count": 42,
     "metadata": {},
     "output_type": "execute_result"
    }
   ],
   "source": [
    "x = 10          #int\n",
    "y = 10.2        #float , int float se multiply hoga to wo float hojaiga\n",
    "z = \"Hello\"     # string\n",
    "print(type(y))\n",
    "x = x*y\n",
    "print(type(x))\n",
    "# Implicit type conversion \n",
    "# x=x+y\n",
    "# print(x , \"Type of x is :\" , type(x))\n",
    "\n",
    "# explicit type conversion \n",
    "age = input(\"What is your age ? \")\n",
    "# age = int(age)\n",
    "print(\"Your age is :\", age)\n",
    "print(\"your age is :\", age , type(int(age))) ,# yaha pe age int me convert ho rahe hy or string me be kar skty hain"
   ]
  },
  {
   "cell_type": "code",
   "execution_count": 43,
   "metadata": {},
   "outputs": [
    {
     "name": "stdout",
     "output_type": "stream",
     "text": [
      "Your name is : Asad\n",
      "your age is : Asad <class 'str'>\n"
     ]
    }
   ],
   "source": [
    "\n",
    "# NAME   \n",
    "name = input(\"What is your name ? \")\n",
    "# age = int(age)\n",
    "print(\"Your name is :\", name)\n",
    "print(\"your age is :\", name , type(str(name))) "
   ]
  },
  {
   "cell_type": "markdown",
   "metadata": {},
   "source": [
    "### ------------------- IF ELSE ELIF STATEMENTS -------------------\n"
   ]
  },
  {
   "cell_type": "code",
   "execution_count": 44,
   "metadata": {},
   "outputs": [
    {
     "name": "stdout",
     "output_type": "stream",
     "text": [
      "Your should take care of hamza, he is still a baby\n"
     ]
    }
   ],
   "source": [
    "required_age_at_school = 5\n",
    "hamza_age = 1\n",
    "\n",
    "# question: can hamza go to school\n",
    "\n",
    "if hamza_age==required_age_at_school:\n",
    "    print(\"Congratulations ! Hamza can join the school\")\n",
    "elif hamza_age> required_age_at_school:\n",
    "    print(\"Hamza should join college\")\n",
    "elif hamza_age<=2:\n",
    "    print(\"Your should take care of hamza, he is still a baby\")\n",
    "else:\n",
    "    print(\"Hamza Cannot go to School \")"
   ]
  },
  {
   "cell_type": "markdown",
   "metadata": {},
   "source": [
    "#### -------------------- Functions -------------------------"
   ]
  },
  {
   "cell_type": "code",
   "execution_count": 45,
   "metadata": {},
   "outputs": [
    {
     "name": "stdout",
     "output_type": "stream",
     "text": [
      "we are learning data science with baba g youtube channel\n",
      "we are learning data science with baba g youtube channel\n",
      "we are learning data science with baba g youtube channel\n"
     ]
    }
   ],
   "source": [
    "#print(\"we are learning with Baba g \")\n",
    "#print(\"we are learning with Baba g \")\n",
    "#print(\"we are learning with Baba g \")\n",
    "#print(\"we are learning with Baba g \")\n",
    "#print(\"we are learning with Baba g \")\n",
    "#print(\"we are learning with Baba g \")\n",
    "\n",
    "# defining a functions\n",
    "\n",
    "#def print_codanics():\n",
    "#    print(\"we are learning with Baba g \")\n",
    "#    print(\"we are learning with Baba g \")\n",
    "#    print(\"we are learning with Baba g \")\n",
    "#print_codanics()\n",
    "\n",
    "# 2nd method of defining a function \n",
    "\n",
    "#def print_codanics():\n",
    "#    text = \" We are learning with Baba g in codanics youtube channel\"\n",
    "#    print(text)\n",
    "#    print(text)\n",
    "#    print(text)\n",
    "#print_codanics()\n",
    "\n",
    "#3rd method \n",
    "\n",
    "def print_codanics(text):\n",
    "    print(text)\n",
    "    print(text)\n",
    "    print(text)\n",
    "\n",
    "print_codanics(\"we are learning data science with baba g youtube channel\")"
   ]
  },
  {
   "cell_type": "code",
   "execution_count": 46,
   "metadata": {},
   "outputs": [
    {
     "name": "stdout",
     "output_type": "stream",
     "text": [
      "Hamza is still a baby\n"
     ]
    }
   ],
   "source": [
    "# defining a function with if, elif and else statements \n",
    "def school_calculator(age ):\n",
    "    if age == 5:\n",
    "        print(\"Hamza can joing the school\")\n",
    "    elif age>5:\n",
    "        print(\"Hamza should go to higher school\")\n",
    "    else:\n",
    "        print(\"Hamza is still a baby\")\n",
    "school_calculator(2)"
   ]
  },
  {
   "cell_type": "code",
   "execution_count": 49,
   "metadata": {},
   "outputs": [
    {
     "name": "stdout",
     "output_type": "stream",
     "text": [
      "38\n"
     ]
    }
   ],
   "source": [
    "# Defining a  funcion of future\n",
    "def future_age( age ):\n",
    "    new_age = age+20\n",
    "    return new_age\n",
    "\n",
    "future_predicted_age = future_age(18)\n",
    "print(future_predicted_age)"
   ]
  },
  {
   "cell_type": "markdown",
   "metadata": {},
   "source": [
    "## LOOPS"
   ]
  },
  {
   "cell_type": "code",
   "execution_count": 63,
   "metadata": {},
   "outputs": [
    {
     "name": "stdout",
     "output_type": "stream",
     "text": [
      "Mon\n",
      "Tue\n",
      "Wed\n",
      "Thu\n",
      "Sat\n",
      "Sun\n"
     ]
    }
   ],
   "source": [
    "# while lopps and for loops\n",
    "    #while loops\n",
    "# loops are doing something again and again iteratively\n",
    "\n",
    "# x = 0\n",
    "# while (x<=5):\n",
    "#     print(x)\n",
    "#     x=x+1\n",
    "# yaha par x zero se start hoga or 5 tak jaiga or jab tak ye statment qaim rahega loop chalega or end me khatam\n",
    "\n",
    "\n",
    "# # FOR LOOP\n",
    "\n",
    "# for x in range(5,10):\n",
    "#     print(x)\n",
    "\n",
    "#ARRAY\n",
    "\n",
    "days =[\"Mon\", \"Tue\" , \"Wed\",  \"Thu\" , \"Fri\", \"Sat\" , \"Sun\"]\n",
    "\n",
    "for d in days:\n",
    "   # if (d==\"Fri\"):break # loop stop at this point\n",
    "    if (d==\"Fri\"): continue #skips d\n",
    "    print(d)\n"
   ]
  },
  {
   "cell_type": "code",
   "execution_count": null,
   "metadata": {},
   "outputs": [],
   "source": []
  }
 ],
 "metadata": {
  "interpreter": {
   "hash": "2123302a94df02947ec0c8caabf2531a42fc127cd9d930c348a3b2a04709220d"
  },
  "kernelspec": {
   "display_name": "Python 3",
   "language": "python",
   "name": "python3"
  },
  "language_info": {
   "codemirror_mode": {
    "name": "ipython",
    "version": 3
   },
   "file_extension": ".py",
   "mimetype": "text/x-python",
   "name": "python",
   "nbconvert_exporter": "python",
   "pygments_lexer": "ipython3",
   "version": "3.8.8"
  }
 },
 "nbformat": 4,
 "nbformat_minor": 2
}
